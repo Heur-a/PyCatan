{
 "cells": [
  {
   "cell_type": "code",
   "execution_count": 2,
   "metadata": {},
   "outputs": [
    {
     "name": "stdout",
     "output_type": "stream",
     "text": [
      "Game (6) has reached the maximum number of rounds\n",
      "Game (28) has reached the maximum number of rounds\n",
      "Game (36) has reached the maximum number of rounds\n",
      "Game (46) has reached the maximum number of rounds\n",
      "Game (48) has reached the maximum number of rounds\n",
      "Game (49) has reached the maximum number of rounds\n",
      "Game (76) has reached the maximum number of rounds\n",
      "Game (88) has reached the maximum number of rounds\n",
      "Game (96) has reached the maximum number of rounds\n",
      "Game (97) has reached the maximum number of rounds\n"
     ]
    }
   ],
   "source": [
    "import sys\n",
    "sys.path.append('..') # This is to add the parent directory to the path\n",
    "\n",
    "from Managers.GameDirector import GameDirector\n",
    "from Agents.RandomAgent import RandomAgent as ra\n",
    "from Agents.AdrianHerasAgent import AdrianHerasAgent as aha\n",
    "import random\n",
    "\n",
    "# generar 100 partidas con 4 agentes aleatorios\n",
    "game_director = GameDirector(agents=(ra, ra, ra, ra), max_rounds=200)\n",
    "for i in range(100):\n",
    "    random.seed(i)\n",
    "    game_director.game_start(i, False)"
   ]
  },
  {
   "cell_type": "code",
   "execution_count": 4,
   "metadata": {},
   "outputs": [
    {
     "name": "stdout",
     "output_type": "stream",
     "text": [
      " 1🥖  2🪨  3🧱  4🪵  5🧶\n",
      "total:  15\n",
      "max idx:  4\n",
      "resta de materiales:  -1🥖  0🪨  1🧱  2🪵  3🧶\n",
      "suma de materiales:   3🥖  4🪨  5🧱  6🪵  7🧶\n",
      "multiplicacion de materiales:   2🥖  4🪨  6🧱  8🪵 10🧶\n",
      "poner negativos a 0:  1🥖  2🪨  0🧱  4🪵  0🧶\n",
      "poner negativos a 0 alternativa:  1🥖  2🪨  0🧱  4🪵  0🧶\n",
      "añadir 10 al cereal: 11🥖  2🪨  3🧱  4🪵  5🧶\n"
     ]
    }
   ],
   "source": [
    "# operaciones sobre recursos como lista\n",
    "from Classes.Materials import Materials\n",
    "from Classes.Constants import MaterialConstants as mc\n",
    "\n",
    "# Crear y print\n",
    "mat1 = Materials(1,2,3,4,5)\n",
    "print(mat1)\n",
    "mat2 = Materials(2,2,2,2,2)\n",
    "\n",
    "\n",
    "print('total: ', sum(mat1))\n",
    "print('max idx: ', max(range(len(mat1)), key=mat1.get_from_id)) # con librerias como numpy esto es mas facil\n",
    "print('resta de materiales: ', mat1 - mat2)\n",
    "print('suma de materiales: ', mat1 + mat2)\n",
    "print('multiplicacion de materiales: ', mat1 * 2)\n",
    "mat3 = Materials(1,2,-3,4,-1)\n",
    "print('poner negativos a 0:', Materials(*map(lambda x: x if x > 0 else 0, mat3)))\n",
    "print('poner negativos a 0 alternativa:', Materials(*[x if x > 0 else 0 for x in mat3]))\n",
    "print('añadir 10 al cereal:', mat1.add_from_id(mc.CEREAL, 10))"
   ]
  },
  {
   "cell_type": "code",
   "execution_count": 4,
   "metadata": {},
   "outputs": [
    {
     "ename": "NameError",
     "evalue": "name 'eq' is not defined",
     "output_type": "error",
     "traceback": [
      "\u001b[1;31m---------------------------------------------------------------------------\u001b[0m",
      "\u001b[1;31mNameError\u001b[0m                                 Traceback (most recent call last)",
      "Cell \u001b[1;32mIn[4], line 8\u001b[0m\n\u001b[0;32m      5\u001b[0m mat1 \u001b[38;5;241m=\u001b[39m Materials(\u001b[38;5;241m1\u001b[39m,\u001b[38;5;241m2\u001b[39m,\u001b[38;5;241m3\u001b[39m,\u001b[38;5;241m4\u001b[39m,\u001b[38;5;241m5\u001b[39m)\n\u001b[0;32m      6\u001b[0m mat2 \u001b[38;5;241m=\u001b[39m Materials(\u001b[38;5;241m2\u001b[39m,\u001b[38;5;241m2\u001b[39m,\u001b[38;5;241m2\u001b[39m,\u001b[38;5;241m2\u001b[39m,\u001b[38;5;241m2\u001b[39m)\n\u001b[1;32m----> 8\u001b[0m \u001b[38;5;28mprint\u001b[39m(\u001b[38;5;124m'\u001b[39m\u001b[38;5;124m<\u001b[39m\u001b[38;5;124m'\u001b[39m, mat1\u001b[38;5;241m.\u001b[39mcompare(mat2, \u001b[43meq\u001b[49m))\n\u001b[0;32m      9\u001b[0m \u001b[38;5;28mprint\u001b[39m([mat1[i] \u001b[38;5;241m>\u001b[39m\u001b[38;5;241m=\u001b[39m mat2[i] \u001b[38;5;28;01mfor\u001b[39;00m i \u001b[38;5;129;01min\u001b[39;00m \u001b[38;5;28mrange\u001b[39m(\u001b[38;5;241m5\u001b[39m)])\n",
      "\u001b[1;31mNameError\u001b[0m: name 'eq' is not defined"
     ]
    }
   ],
   "source": [
    "import sys\n",
    "import operator\n",
    "sys.path.append('..') # This is to add the parent directory to the path\n",
    "from Classes.Materials import Materials\n",
    "\n",
    "mat1 = Materials(1,2,3,4,5)\n",
    "mat2 = Materials(2,2,2,2,2)\n",
    "\n",
    "print('<', mat1.compare(mat2, eq))\n",
    "print([mat1[i] >= mat2[i] for i in range(5)])"
   ]
  },
  {
   "cell_type": "code",
   "execution_count": null,
   "metadata": {},
   "outputs": [],
   "source": []
  }
 ],
 "metadata": {
  "kernelspec": {
   "display_name": ".venv",
   "language": "python",
   "name": "python3"
  },
  "language_info": {
   "codemirror_mode": {
    "name": "ipython",
    "version": 3
   },
   "file_extension": ".py",
   "mimetype": "text/x-python",
   "name": "python",
   "nbconvert_exporter": "python",
   "pygments_lexer": "ipython3",
   "version": "3.10.11"
  }
 },
 "nbformat": 4,
 "nbformat_minor": 2
}
