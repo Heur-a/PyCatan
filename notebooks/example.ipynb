{
 "cells": [
  {
   "cell_type": "code",
   "metadata": {
    "ExecuteTime": {
     "end_time": "2025-06-06T09:15:20.798021Z",
     "start_time": "2025-06-06T09:14:52.723206Z"
    }
   },
   "source": [
    "import sys\n",
    "sys.path.append('..') # This is to add the parent directory to the path\n",
    "\n",
    "from Managers.GameDirector import GameDirector\n",
    "from Agents.RandomAgent import RandomAgent as ra\n",
    "from Agents.AdrianHerasAgent import AdrianHerasAgent as aha\n",
    "import random\n",
    "\n",
    "# generar 100 partidas con 4 agentes aleatorios\n",
    "game_director = GameDirector(agents=(ra, ra, aha, aha), max_rounds=200)\n",
    "for i in range(100):\n",
    "    random.seed(i)\n",
    "    game_director.game_start(i, False)"
   ],
   "outputs": [],
   "execution_count": 1
  },
  {
   "cell_type": "code",
   "execution_count": 4,
   "metadata": {},
   "outputs": [
    {
     "name": "stdout",
     "output_type": "stream",
     "text": [
      " 1🥖  2🪨  3🧱  4🪵  5🧶\n",
      "total:  15\n",
      "max idx:  4\n",
      "resta de materiales:  -1🥖  0🪨  1🧱  2🪵  3🧶\n",
      "suma de materiales:   3🥖  4🪨  5🧱  6🪵  7🧶\n",
      "multiplicacion de materiales:   2🥖  4🪨  6🧱  8🪵 10🧶\n",
      "poner negativos a 0:  1🥖  2🪨  0🧱  4🪵  0🧶\n",
      "poner negativos a 0 alternativa:  1🥖  2🪨  0🧱  4🪵  0🧶\n",
      "añadir 10 al cereal: 11🥖  2🪨  3🧱  4🪵  5🧶\n"
     ]
    }
   ],
   "source": [
    "# operaciones sobre recursos como lista\n",
    "from Classes.Materials import Materials\n",
    "from Classes.Constants import MaterialConstants as mc\n",
    "\n",
    "# Crear y print\n",
    "mat1 = Materials(1,2,3,4,5)\n",
    "print(mat1)\n",
    "mat2 = Materials(2,2,2,2,2)\n",
    "\n",
    "\n",
    "print('total: ', sum(mat1))\n",
    "print('max idx: ', max(range(len(mat1)), key=mat1.get_from_id)) # con librerias como numpy esto es mas facil\n",
    "print('resta de materiales: ', mat1 - mat2)\n",
    "print('suma de materiales: ', mat1 + mat2)\n",
    "print('multiplicacion de materiales: ', mat1 * 2)\n",
    "mat3 = Materials(1,2,-3,4,-1)\n",
    "print('poner negativos a 0:', Materials(*map(lambda x: x if x > 0 else 0, mat3)))\n",
    "print('poner negativos a 0 alternativa:', Materials(*[x if x > 0 else 0 for x in mat3]))\n",
    "print('añadir 10 al cereal:', mat1.add_from_id(mc.CEREAL, 10))"
   ]
  },
  {
   "cell_type": "code",
   "execution_count": null,
   "metadata": {},
   "outputs": [],
   "source": []
  }
 ],
 "metadata": {
  "kernelspec": {
   "display_name": ".venv",
   "language": "python",
   "name": "python3"
  },
  "language_info": {
   "codemirror_mode": {
    "name": "ipython",
    "version": 3
   },
   "file_extension": ".py",
   "mimetype": "text/x-python",
   "name": "python",
   "nbconvert_exporter": "python",
   "pygments_lexer": "ipython3",
   "version": "3.10.11"
  }
 },
 "nbformat": 4,
 "nbformat_minor": 2
}
