{
 "cells": [
  {
   "cell_type": "code",
   "execution_count": 2,
   "metadata": {},
   "outputs": [
    {
     "name": "stdout",
     "output_type": "stream",
     "text": [
      "Game (0) results. Player: VictoryPoints (largest_army) (longest_road)\n",
      "P0 (RandomAgent): 6 (0) (0)\n",
      "P1 (RandomAgent): 4 (0) (0)\n",
      "P2 (AdrianHerasAgent): 10 (0) (1)\n",
      "P3 (RandomAgent): 4 (0) (0)\n"
     ]
    }
   ],
   "source": [
    "import sys\n",
    "sys.path.append('..') # This is to add the parent directory to the path\n",
    "\n",
    "from Managers.GameDirector import GameDirector\n",
    "from Agents.RandomAgent import RandomAgent as ra\n",
    "from Agents.AdrianHerasAgent import AdrianHerasAgent as aha\n",
    "\n",
    "game_director = GameDirector(agents=(ra, ra, aha, ra))\n",
    "game_director.game_start()\n"
   ]
  },
  {
   "cell_type": "code",
   "execution_count": 5,
   "metadata": {},
   "outputs": [
    {
     "data": {
      "text/plain": [
       "type"
      ]
     },
     "execution_count": 5,
     "metadata": {},
     "output_type": "execute_result"
    }
   ],
   "source": [
    "# operaciones sobre recursos como lista\n",
    "from Classes.Materials import Materials\n",
    "from Classes.Constants import MaterialConstants as mc\n",
    "\n",
    "# Crear y print\n",
    "mat1 = Materials(1,2,3,4,5)\n",
    "print(mat1)\n",
    "mat2 = Materials(2,2,2,2,2)\n",
    "\n",
    "\n",
    "print('total: ', sum(mat1))\n",
    "print('max idx: ', max(range(len(mat1)), key=mat1.get_from_id)) # con librerias como numpy esto es mas facil\n",
    "print('resta de materiales: ', mat1 - mat2)\n",
    "print('suma de materiales: ', mat1 + mat2)\n",
    "print('multiplicacion de materiales: ', mat1 * 2)\n",
    "mat3 = Materials(1,2,-3,4,-1)\n",
    "print('poner negativos a 0:', Materials(*map(lambda x: x if x > 0 else 0, mat3)))\n",
    "print('poner negativos a 0 alternativa:', Materials(*[x if x > 0 else 0 for x in mat3]))\n",
    "print('añadir 10 al cereal:', mat1.add_from_id(mc.CEREAL, 10))"
   ]
  },
  {
   "cell_type": "code",
   "execution_count": null,
   "metadata": {},
   "outputs": [],
   "source": []
  }
 ],
 "metadata": {
  "kernelspec": {
   "display_name": ".venv",
   "language": "python",
   "name": "python3"
  },
  "language_info": {
   "codemirror_mode": {
    "name": "ipython",
    "version": 3
   },
   "file_extension": ".py",
   "mimetype": "text/x-python",
   "name": "python",
   "nbconvert_exporter": "python",
   "pygments_lexer": "ipython3",
   "version": "3.12.3"
  }
 },
 "nbformat": 4,
 "nbformat_minor": 2
}
